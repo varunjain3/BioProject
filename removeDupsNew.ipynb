{
 "cells": [
  {
   "cell_type": "code",
   "execution_count": 2,
   "metadata": {},
   "outputs": [],
   "source": [
    "import pandas as pd\n",
    "import numpy as np\n",
    "import matplotlib.pyplot as plt\n",
    "import json\n",
    "import os"
   ]
  },
  {
   "cell_type": "code",
   "execution_count": 7,
   "metadata": {},
   "outputs": [],
   "source": [
    "def count_missing(fullfilename):\n",
    "    df = pd.read_csv(fullfilename)\n",
    "    print(df.isna().sum())"
   ]
  },
  {
   "cell_type": "code",
   "execution_count": null,
   "metadata": {},
   "outputs": [],
   "source": [
    "def create_map(fullfilename):\n",
    "    df = pd.read_csv(fullfilename)\n",
    "    "
   ]
  },
  {
   "cell_type": "code",
   "execution_count": 71,
   "metadata": {},
   "outputs": [],
   "source": [
    "filepath = \"ncbi\\\\aka_scraped\""
   ]
  },
  {
   "cell_type": "code",
   "execution_count": 19,
   "metadata": {},
   "outputs": [],
   "source": [
    "def get_dups(fullfilepath):    \n",
    "    df = pd.read_csv(fullfilepath)\n",
    "\n",
    "    cols = ['LncRNA name', 'Cancer name', 'Methods', 'Expression pattern',\n",
    "        'Pubmed ID', 'aka']\n",
    "\n",
    "    present_map = {}\n",
    "    dup_indices = []\n",
    "    for index, row in df[cols][:-2].iterrows():\n",
    "        curentry = tuple(row[['LncRNA name', 'Cancer name', 'Methods', 'Expression pattern',\n",
    "        'Pubmed ID',]])\n",
    "        present_map[curentry] = (False, [])\n",
    "\n",
    "    for index, row in df[cols][:-2].iterrows():\n",
    "        curentry = tuple(row[['LncRNA name', 'Cancer name', 'Methods', 'Expression pattern',\n",
    "        'Pubmed ID',]])\n",
    "        \n",
    "        if present_map[curentry][0] == True:\n",
    "            # dup_indices.append((index, present_map[curentry][1]))\n",
    "            present_map[curentry][1].append(index)\n",
    "        else:\n",
    "            akas = str(list(row[['aka']])[0]).strip().split(';')\n",
    "\n",
    "            for aka in akas:\n",
    "                tmplist = list(curentry)\n",
    "                tmplist[0] = aka\n",
    "                akaentry = tuple(tmplist)\n",
    "\n",
    "                if akaentry in present_map.keys() and present_map[akaentry][0] == True:\n",
    "                    # dup_indices.append((index, present_map[curentry][1]))\n",
    "                    present_map[akaentry][1].append(index)\n",
    "\n",
    "            present_map[curentry] = (True, [index])\n",
    "\n",
    "    return {fullfilepath: present_map}"
   ]
  },
  {
   "cell_type": "code",
   "execution_count": 68,
   "metadata": {},
   "outputs": [],
   "source": [
    "delete_rows = {}\n",
    "\n",
    "for filename in os.listdir(filepath):\n",
    "    if(filename[-3:]=='csv'):\n",
    "        fullfilename = os.path.join(filepath, filename)\n",
    "        dups_data = get_dups(fullfilename)\n",
    "\n",
    "        removerows = []\n",
    "\n",
    "        for i in dups_data.values():\n",
    "            for j in i:\n",
    "                if len(i[j][1]) > 1:\n",
    "                    for rownum in i[j][1][1:]:\n",
    "                        removerows.append(rownum)\n",
    "\n",
    "        delete_rows[filename] = removerows\n",
    "\n",
    "import json\n",
    "with open('final_dups_to_remove.json', 'w') as fp:\n",
    "    json.dump(delete_rows, fp)\n",
    "\n",
    "# remove row number+2 wali row in excel from the sheet"
   ]
  },
  {
   "cell_type": "code",
   "execution_count": 76,
   "metadata": {},
   "outputs": [],
   "source": [
    "for filename in os.listdir(filepath):\n",
    "    if(filename[-3:]=='csv'):\n",
    "        fullfilename = os.path.join(filepath, filename)\n",
    "        df = pd.read_csv(fullfilename)\n",
    "        rows_to_delete = delete_rows[filename]\n",
    "        if len(rows_to_delete)>0:\n",
    "            df.drop(df.index[rows_to_delete], inplace=True)\n",
    "            df.to_csv(os.path.join('ncbi\\\\aka_scraped\\\\dups_removed', 'dups_removed_'+filename), index=False)"
   ]
  },
  {
   "cell_type": "code",
   "execution_count": 31,
   "metadata": {},
   "outputs": [],
   "source": [
    "combined_df = pd.read_csv('lnccancer_db\\\\combined.csv', header=None, index_col=0)\n",
    "aka_df = pd.read_csv('aka_db.csv', header=None, index_col=0)\n",
    "aka_df.columns = ['LncRNA name', 'aka']\n",
    "\n",
    "# print(combined_df.columns)\n",
    "combined_df = combined_df[combined_df.columns[:-1]]\n",
    "# print(combined_df.head())\n",
    "combined_df.columns = ['LncRNA name', 'Cancer name', 'Methods', 'Expression pattern',\n",
    "        'Pubmed ID', 'No. of Transcript variants']\n",
    "\n",
    "# print(combined_df.head())"
   ]
  },
  {
   "cell_type": "code",
   "execution_count": 38,
   "metadata": {},
   "outputs": [
    {
     "data": {
      "text/plain": [
       "['apoptosis associated transcript in bladder cancer',\n",
       " 'apoptosis-associated transcript in bladder cancer',\n",
       " 'AATBC',\n",
       " 'HSALNG0133454',\n",
       " 'NONHSAG032997.2',\n",
       " 'HSALNG0133458']"
      ]
     },
     "execution_count": 38,
     "metadata": {},
     "output_type": "execute_result"
    }
   ],
   "source": [
    "grouped_aka = aka_df.groupby('LncRNA name')\n",
    "list(grouped_aka.get_group('AATBC')['aka'])"
   ]
  },
  {
   "cell_type": "code",
   "execution_count": 45,
   "metadata": {},
   "outputs": [
    {
     "data": {
      "text/html": [
       "<div>\n",
       "<style scoped>\n",
       "    .dataframe tbody tr th:only-of-type {\n",
       "        vertical-align: middle;\n",
       "    }\n",
       "\n",
       "    .dataframe tbody tr th {\n",
       "        vertical-align: top;\n",
       "    }\n",
       "\n",
       "    .dataframe thead th {\n",
       "        text-align: right;\n",
       "    }\n",
       "</style>\n",
       "<table border=\"1\" class=\"dataframe\">\n",
       "  <thead>\n",
       "    <tr style=\"text-align: right;\">\n",
       "      <th></th>\n",
       "      <th>LncRNA name</th>\n",
       "      <th>Cancer name</th>\n",
       "      <th>Methods</th>\n",
       "      <th>Expression pattern</th>\n",
       "      <th>Pubmed ID</th>\n",
       "      <th>No. of Transcript variants</th>\n",
       "    </tr>\n",
       "    <tr>\n",
       "      <th>0</th>\n",
       "      <th></th>\n",
       "      <th></th>\n",
       "      <th></th>\n",
       "      <th></th>\n",
       "      <th></th>\n",
       "      <th></th>\n",
       "    </tr>\n",
       "  </thead>\n",
       "  <tbody>\n",
       "    <tr>\n",
       "      <th>0</th>\n",
       "      <td>ABHD11-AS1</td>\n",
       "      <td>Colorectal Cancer</td>\n",
       "      <td>qPCR, RIP, Luciferase reporter assay, Western ...</td>\n",
       "      <td>up-regulated</td>\n",
       "      <td>30429229.0</td>\n",
       "      <td>1.0</td>\n",
       "    </tr>\n",
       "    <tr>\n",
       "      <th>1</th>\n",
       "      <td>ABHD11-AS1</td>\n",
       "      <td>Colorectal Cancer</td>\n",
       "      <td>qPCR, Western blot, Luciferase reporter assay,...</td>\n",
       "      <td>up-regulated</td>\n",
       "      <td>30537177.0</td>\n",
       "      <td>1.0</td>\n",
       "    </tr>\n",
       "    <tr>\n",
       "      <th>2</th>\n",
       "      <td>ADAMTS9-AS2</td>\n",
       "      <td>Colorectal Cancer</td>\n",
       "      <td>qPCR etc.</td>\n",
       "      <td>down-regulated</td>\n",
       "      <td>27596298.0</td>\n",
       "      <td>1.0</td>\n",
       "    </tr>\n",
       "    <tr>\n",
       "      <th>3</th>\n",
       "      <td>ADPGK-AS1</td>\n",
       "      <td>Colorectal Cancer</td>\n",
       "      <td>qPCR, Luciferase reporter assay etc</td>\n",
       "      <td>up-regulated</td>\n",
       "      <td>32196589.0</td>\n",
       "      <td>1.0</td>\n",
       "    </tr>\n",
       "    <tr>\n",
       "      <th>4</th>\n",
       "      <td>AFAP1-AS1</td>\n",
       "      <td>Colorectal Cancer</td>\n",
       "      <td>qPCR, Western blot, in vitro knockdown, RIP</td>\n",
       "      <td>up-regulated</td>\n",
       "      <td>29888110.0</td>\n",
       "      <td>1.0</td>\n",
       "    </tr>\n",
       "  </tbody>\n",
       "</table>\n",
       "</div>"
      ],
      "text/plain": [
       "   LncRNA name        Cancer name  \\\n",
       "0                                   \n",
       "0   ABHD11-AS1  Colorectal Cancer   \n",
       "1   ABHD11-AS1  Colorectal Cancer   \n",
       "2  ADAMTS9-AS2  Colorectal Cancer   \n",
       "3    ADPGK-AS1  Colorectal Cancer   \n",
       "4    AFAP1-AS1  Colorectal Cancer   \n",
       "\n",
       "                                             Methods Expression pattern  \\\n",
       "0                                                                         \n",
       "0  qPCR, RIP, Luciferase reporter assay, Western ...       up-regulated   \n",
       "1  qPCR, Western blot, Luciferase reporter assay,...       up-regulated   \n",
       "2                                          qPCR etc.     down-regulated   \n",
       "3                qPCR, Luciferase reporter assay etc       up-regulated   \n",
       "4        qPCR, Western blot, in vitro knockdown, RIP       up-regulated   \n",
       "\n",
       "    Pubmed ID  No. of Transcript variants  \n",
       "0                                          \n",
       "0  30429229.0                         1.0  \n",
       "1  30537177.0                         1.0  \n",
       "2  27596298.0                         1.0  \n",
       "3  32196589.0                         1.0  \n",
       "4  29888110.0                         1.0  "
      ]
     },
     "execution_count": 45,
     "metadata": {},
     "output_type": "execute_result"
    }
   ],
   "source": [
    "combined_df.head()"
   ]
  },
  {
   "cell_type": "code",
   "execution_count": 48,
   "metadata": {},
   "outputs": [
    {
     "ename": "KeyError",
     "evalue": "('AATBC', 'Nasopharyngeal Cancer', 'Western blot, qRT-PCR, Luciferase reporter assay etc.', 'up-regulated', 32364663.0, nan)",
     "output_type": "error",
     "traceback": [
      "\u001b[1;31m---------------------------------------------------------------------------\u001b[0m",
      "\u001b[1;31mKeyError\u001b[0m                                  Traceback (most recent call last)",
      "\u001b[1;32m~\\AppData\\Local\\Temp/ipykernel_6644/171520644.py\u001b[0m in \u001b[0;36m<module>\u001b[1;34m\u001b[0m\n\u001b[0;32m     12\u001b[0m \u001b[1;33m\u001b[0m\u001b[0m\n\u001b[0;32m     13\u001b[0m \u001b[1;33m\u001b[0m\u001b[0m\n\u001b[1;32m---> 14\u001b[1;33m     \u001b[1;32mif\u001b[0m \u001b[0mpresent_map\u001b[0m\u001b[1;33m[\u001b[0m\u001b[0mcurentry\u001b[0m\u001b[1;33m]\u001b[0m\u001b[1;33m[\u001b[0m\u001b[1;36m0\u001b[0m\u001b[1;33m]\u001b[0m \u001b[1;33m==\u001b[0m \u001b[1;32mTrue\u001b[0m\u001b[1;33m:\u001b[0m\u001b[1;33m\u001b[0m\u001b[1;33m\u001b[0m\u001b[0m\n\u001b[0m\u001b[0;32m     15\u001b[0m         \u001b[1;31m# dup_indices.append((index, present_map[curentry][1]))\u001b[0m\u001b[1;33m\u001b[0m\u001b[1;33m\u001b[0m\u001b[0m\n\u001b[0;32m     16\u001b[0m         \u001b[0mpresent_map\u001b[0m\u001b[1;33m[\u001b[0m\u001b[0mcurentry\u001b[0m\u001b[1;33m]\u001b[0m\u001b[1;33m[\u001b[0m\u001b[1;36m1\u001b[0m\u001b[1;33m]\u001b[0m\u001b[1;33m.\u001b[0m\u001b[0mappend\u001b[0m\u001b[1;33m(\u001b[0m\u001b[0mindex\u001b[0m\u001b[1;33m)\u001b[0m\u001b[1;33m\u001b[0m\u001b[1;33m\u001b[0m\u001b[0m\n",
      "\u001b[1;31mKeyError\u001b[0m: ('AATBC', 'Nasopharyngeal Cancer', 'Western blot, qRT-PCR, Luciferase reporter assay etc.', 'up-regulated', 32364663.0, nan)"
     ]
    }
   ],
   "source": [
    "present_map = {}\n",
    "err_cnt = 0\n",
    "for index, row in combined_df.iterrows():\n",
    "    curentry = tuple(row[combined_df.columns])[:6]\n",
    "    if(len(curentry)!=6):\n",
    "        print(index, row)\n",
    "    present_map[curentry] = (False, [])\n",
    "\n",
    "for index, row in combined_df.iterrows():\n",
    "    curentry = tuple(row[combined_df.columns])[:6]\n",
    "\n",
    "\n",
    "    \n",
    "    if present_map[curentry][0] == True:\n",
    "        # dup_indices.append((index, present_map[curentry][1]))\n",
    "        present_map[curentry][1].append(index)\n",
    "    else:\n",
    "        try:\n",
    "\n",
    "            akas = list(grouped_aka.get_group(row['LncRNA name'])['aka'])\n",
    "\n",
    "            for aka in akas:\n",
    "                tmplist = list(curentry)\n",
    "                tmplist[0] = aka\n",
    "                akaentry = tuple(tmplist)\n",
    "\n",
    "                if akaentry in present_map.keys() and present_map[akaentry][0] == True:\n",
    "                    # dup_indices.append((index, present_map[curentry][1]))\n",
    "                    present_map[akaentry][1].append(index)\n",
    "        except:\n",
    "            err_cnt+=1\n",
    "\n",
    "        present_map[curentry] = (True, [index])\n",
    "\n",
    "print(err_cnt)"
   ]
  },
  {
   "cell_type": "code",
   "execution_count": null,
   "metadata": {},
   "outputs": [],
   "source": []
  }
 ],
 "metadata": {
  "interpreter": {
   "hash": "79d89f5018a25ee4903297670e08d262d75f7807c927736ae3bf5b92210728b3"
  },
  "kernelspec": {
   "display_name": "Python 3.9.7 ('venv': venv)",
   "language": "python",
   "name": "python3"
  },
  "language_info": {
   "codemirror_mode": {
    "name": "ipython",
    "version": 3
   },
   "file_extension": ".py",
   "mimetype": "text/x-python",
   "name": "python",
   "nbconvert_exporter": "python",
   "pygments_lexer": "ipython3",
   "version": "3.9.7"
  },
  "orig_nbformat": 4
 },
 "nbformat": 4,
 "nbformat_minor": 2
}
