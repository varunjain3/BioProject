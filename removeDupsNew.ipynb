{
 "cells": [
  {
   "cell_type": "code",
   "execution_count": 1,
   "metadata": {},
   "outputs": [],
   "source": [
    "import pandas as pd\n",
    "import numpy as np\n",
    "import matplotlib.pyplot as plt\n",
    "import json\n",
    "import os"
   ]
  },
  {
   "cell_type": "code",
   "execution_count": 7,
   "metadata": {},
   "outputs": [],
   "source": [
    "def count_missing(fullfilename):\n",
    "    df = pd.read_csv(fullfilename)\n",
    "    print(df.isna().sum())"
   ]
  },
  {
   "cell_type": "code",
   "execution_count": null,
   "metadata": {},
   "outputs": [],
   "source": [
    "def create_map(fullfilename):\n",
    "    df = pd.read_csv(fullfilename)\n",
    "    "
   ]
  },
  {
   "cell_type": "code",
   "execution_count": 71,
   "metadata": {},
   "outputs": [],
   "source": [
    "filepath = \"ncbi\\\\aka_scraped\""
   ]
  },
  {
   "cell_type": "code",
   "execution_count": 49,
   "metadata": {},
   "outputs": [],
   "source": [
    "def get_dups(fullfilepath):    \n",
    "    df = pd.read_csv(fullfilepath)\n",
    "\n",
    "    cols = ['LncRNA name', 'Cancer name', 'Methods', 'Expression pattern',\n",
    "        'Pubmed ID', 'aka']\n",
    "\n",
    "    present_map = {}\n",
    "    dup_indices = []\n",
    "    for index, row in df[cols][:-2].iterrows():\n",
    "        curentry = tuple(row[['LncRNA name', 'Cancer name', 'Methods', 'Expression pattern',\n",
    "        'Pubmed ID',]])\n",
    "        present_map[curentry] = (False, [])\n",
    "\n",
    "    for index, row in df[cols][:-2].iterrows():\n",
    "        curentry = tuple(row[['LncRNA name', 'Cancer name', 'Methods', 'Expression pattern',\n",
    "        'Pubmed ID',]])\n",
    "        \n",
    "        if present_map[curentry][0] == True:\n",
    "            # dup_indices.append((index, present_map[curentry][1]))\n",
    "            present_map[curentry][1].append(index)\n",
    "        else:\n",
    "            akas = str(list(row[['aka']])[0]).strip().split(';')\n",
    "\n",
    "            for aka in akas:\n",
    "                tmplist = list(curentry)\n",
    "                tmplist[0] = aka\n",
    "                akaentry = tuple(tmplist)\n",
    "\n",
    "                if akaentry in present_map.keys() and present_map[akaentry][0] == True:\n",
    "                    # dup_indices.append((index, present_map[curentry][1]))\n",
    "                    present_map[akaentry][1].append(index)\n",
    "\n",
    "            present_map[curentry] = (True, [index])\n",
    "\n",
    "    return {fullfilepath: present_map}"
   ]
  },
  {
   "cell_type": "code",
   "execution_count": 68,
   "metadata": {},
   "outputs": [],
   "source": [
    "delete_rows = {}\n",
    "\n",
    "for filename in os.listdir(filepath):\n",
    "    if(filename[-3:]=='csv'):\n",
    "        fullfilename = os.path.join(filepath, filename)\n",
    "        dups_data = get_dups(fullfilename)\n",
    "\n",
    "        removerows = []\n",
    "\n",
    "        for i in dups_data.values():\n",
    "            for j in i:\n",
    "                if len(i[j][1]) > 1:\n",
    "                    for rownum in i[j][1][1:]:\n",
    "                        removerows.append(rownum)\n",
    "\n",
    "        delete_rows[filename] = removerows\n",
    "\n",
    "import json\n",
    "with open('final_dups_to_remove.json', 'w') as fp:\n",
    "    json.dump(delete_rows, fp)\n",
    "\n",
    "# remove row number+2 wali row in excel from the sheet"
   ]
  },
  {
   "cell_type": "code",
   "execution_count": 76,
   "metadata": {},
   "outputs": [],
   "source": [
    "for filename in os.listdir(filepath):\n",
    "    if(filename[-3:]=='csv'):\n",
    "        fullfilename = os.path.join(filepath, filename)\n",
    "        df = pd.read_csv(fullfilename)\n",
    "        rows_to_delete = delete_rows[filename]\n",
    "        if len(rows_to_delete)>0:\n",
    "            df.drop(df.index[rows_to_delete], inplace=True)\n",
    "            df.to_csv(os.path.join('ncbi\\\\aka_scraped\\\\dups_removed', 'dups_removed_'+filename), index=False)"
   ]
  },
  {
   "cell_type": "code",
   "execution_count": null,
   "metadata": {},
   "outputs": [],
   "source": []
  }
 ],
 "metadata": {
  "interpreter": {
   "hash": "79d89f5018a25ee4903297670e08d262d75f7807c927736ae3bf5b92210728b3"
  },
  "kernelspec": {
   "display_name": "Python 3.9.7 ('venv': venv)",
   "language": "python",
   "name": "python3"
  },
  "language_info": {
   "codemirror_mode": {
    "name": "ipython",
    "version": 3
   },
   "file_extension": ".py",
   "mimetype": "text/x-python",
   "name": "python",
   "nbconvert_exporter": "python",
   "pygments_lexer": "ipython3",
   "version": "3.9.7"
  },
  "orig_nbformat": 4
 },
 "nbformat": 4,
 "nbformat_minor": 2
}
