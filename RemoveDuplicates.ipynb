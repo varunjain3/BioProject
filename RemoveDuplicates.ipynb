{
 "cells": [
  {
   "cell_type": "code",
   "execution_count": 1,
   "metadata": {},
   "outputs": [],
   "source": [
    "import pandas as pd\n",
    "# from collections import defaultdict\n",
    "import re"
   ]
  },
  {
   "cell_type": "code",
   "execution_count": 2,
   "id": "5f940fd0",
   "metadata": {},
   "outputs": [],
   "source": [
    "HEADER = 0\n",
    "\n",
    "SHEET_NAME = \"Validated & Reviewed GQ LncRNAs\""
   ]
  },
  {
   "cell_type": "code",
   "execution_count": 63,
   "id": "467d1785",
   "metadata": {},
   "outputs": [],
   "source": [
    "filenames = [\n",
    "    \"data\\\\lnc2rna_filled_data\\\\4Cervical.csv\",\n",
    "    \"data\\\\lnc2rna_filled_data\\\\1Colorectal.csv\",\n",
    "    \"data\\\\lnc2rna_filled_data\\\\5Gastric.csv\",\n",
    "    \"data\\\\lnc2rna_filled_data\\\\6Head and neck.csv\",\n",
    "    \"data\\\\lnc2rna_filled_data\\\\8Liver.csv\",\n",
    "    \"data\\\\lnc2rna_filled_data\\\\7Lung.csv\",\n",
    "    \"data\\\\lnc2rna_filled_data\\\\2Ovarian.csv\",\n",
    "    \"data\\\\lnc2rna_filled_data\\\\3Pancreatic.csv\",\n",
    "    \"data\\\\lnc2rna_filled_data\\\\9Prostate.csv\"\n",
    "]"
   ]
  },
  {
   "cell_type": "code",
   "execution_count": 64,
   "id": "f8c67a3d",
   "metadata": {},
   "outputs": [],
   "source": [
    "common_cols = [\n",
    "    \"LncRNA name\",\n",
    "]"
   ]
  },
  {
   "cell_type": "code",
   "execution_count": 71,
   "id": "fd435c62",
   "metadata": {},
   "outputs": [],
   "source": [
    "def removeDuplicates(SHEET_PATH):\n",
    "    print()\n",
    "    print(\"------------------------------------------------------\")\n",
    "    df = pd.read_csv(SHEET_PATH)\n",
    "    df.loc[:,common_cols] = df.loc[:,common_cols].ffill()\n",
    "    df.head(10)\n",
    "    df['row_num'] = df.index+2\n",
    "    df['row_num']\n",
    "    new_df = pd.DataFrame(columns= df.columns)\n",
    "    for i, row in df.iterrows():\n",
    "        if i>0:\n",
    "            if type(row['Remarks']) == type('helo'):\n",
    "                row['Remarks'] = row['Remarks'].strip()\n",
    "            if row['LncRNA name'] == new_df.iloc[i-1]['LncRNA name']:\n",
    "                # print(row['LncRNA name'], df.iloc[i-1]['Remarks'])\n",
    "                row['Remarks'] = new_df.iloc[i-1]['Remarks']\n",
    "        new_df = new_df.append(row)\n",
    "    df_aka = new_df[new_df['Remarks'].notnull()]\n",
    "    df_aka.shape\n",
    "\n",
    "    no_aka_notnull = []\n",
    "\n",
    "    df_final = pd.DataFrame(columns = df_aka.columns)\n",
    "    for i, row in df_aka.iterrows():\n",
    "        # print(row['Remarks'][:13].lower() == 'also known as')\n",
    "        if 'also known as' in row['Remarks'].lower():\n",
    "            df_final = df_final.append(row)\n",
    "        else:\n",
    "            print(row['Remarks'][:13])\n",
    "            no_aka_notnull.append(row['row_num'])\n",
    "\n",
    "    print(no_aka_notnull)\n",
    "\n",
    "    df_final.reset_index(inplace=True, drop=True)\n",
    "\n",
    "    df_final.to_csv(f'test.csv')\n",
    "\n",
    "    mp = {}\n",
    "    for i, row in df_final.iterrows():\n",
    "        rem = row['Remarks']\n",
    "        mp[rem] = [i]\n",
    "\n",
    "    for rem in mp:\n",
    "        for i, row in df_final.iterrows():\n",
    "            cur = row['LncRNA name'].strip().split()\n",
    "            for name in cur:\n",
    "                if len(name)==1:\n",
    "                    continue\n",
    "                if 'variant' in name.lower():\n",
    "                    name = name[:-7]\n",
    "                if name[-1]=='_':\n",
    "                    name = name[:-1]\n",
    "                found = re.findall(\"\\\\b\"+name+\"\\\\W\", rem)\n",
    "                if len(found) > 0 and rem!=row['Remarks']:\n",
    "                    mp[rem].append([i, found])\n",
    "\n",
    "    dups = 0\n",
    "    ind = 0\n",
    "    for x in list(mp.items())[:20]:\n",
    "        if len(x[1])>1:\n",
    "            dups+=1\n",
    "            print(ind, x)\n",
    "        ind+=1\n",
    "    \n",
    "    print(\"------------------------------------------------------\")\n",
    "    print(f\"Number of duplicates found in sheet {SHEET_PATH}: {dups}\")\n",
    "    print(\"------------------------------------------------------\")\n",
    "    print()"
   ]
  },
  {
   "cell_type": "code",
   "execution_count": 72,
   "id": "5914e761",
   "metadata": {},
   "outputs": [
    {
     "name": "stdout",
     "output_type": "stream",
     "text": [
      "\n",
      "------------------------------------------------------\n",
      "Some (older) \n",
      "Some (older) \n",
      "Sequence Note\n",
      "[246, 247, 282]\n",
      "------------------------------------------------------\n",
      "Number of duplicates found in sheet data\\lnc2rna_filled_data\\4Cervical.csv: 0\n",
      "------------------------------------------------------\n",
      "\n"
     ]
    }
   ],
   "source": [
    "removeDuplicates(filenames[0])"
   ]
  },
  {
   "cell_type": "code",
   "execution_count": 73,
   "id": "96757b73",
   "metadata": {},
   "outputs": [
    {
     "name": "stdout",
     "output_type": "stream",
     "text": [
      "\n",
      "------------------------------------------------------\n",
      "Homo sapiens \n",
      "Homo sapiens \n",
      "Homo sapiens \n",
      "Sequence not \n",
      "Some (older-n\n",
      "Homo sapiens \n",
      "Homo sapiens \n",
      "[111, 112, 113, 324, 368, 574, 575]\n",
      "------------------------------------------------------\n",
      "Number of duplicates found in sheet data\\lnc2rna_filled_data\\1Colorectal.csv: 0\n",
      "------------------------------------------------------\n",
      "\n"
     ]
    }
   ],
   "source": [
    "removeDuplicates(filenames[1])"
   ]
  },
  {
   "cell_type": "code",
   "execution_count": 74,
   "id": "efd31ea2",
   "metadata": {},
   "outputs": [
    {
     "name": "stdout",
     "output_type": "stream",
     "text": [
      "\n",
      "------------------------------------------------------\n",
      "Refer TUSC7\n",
      "Some (older-n\n",
      "Some (older-n\n",
      "Some (older-n\n",
      "Not present i\n",
      "GeneCards Sym\n",
      "GeneCards Sym\n",
      "Some (older) \n",
      "Some (older) \n",
      "Some (older) \n",
      "Some (older) \n",
      "Some (older) \n",
      "[377, 383, 384, 385, 490, 542, 543, 575, 576, 577, 578, 579]\n",
      "6 ('Also Known As: ANRIL; p15AS; PCAT12; CDKN2B-AS1; CDKN2BAS; CDKN2B-AS; NCRNA00089\\r\\n\\r\\nSome (older) ANRIL ncRNA for antisense noncoding RNA in the INK4 locus transcript \"antisense RNA\" ncRNA (AB548314.1) with PQS-15 was also there in result.\\r\\n\\r\\nSome (older-not checked for PQS) antisense noncoding RNA in the INK4 locus splice variant (ANRIL) \"antisense RNA\" ncRNA (partial sequence, alternatively spliced-EU741058.1; note=\"similar to GenBank Accession Number BF002632; contains exons 1, 5, 6, 7, and 13; alternatively spliced\") was also there in result.\\r\\n\\r\\nSome (older-not checked for PQS) CDKNBAS \"antisense RNA\" ncRNA [TPA(CDKN2B-AS1 gene): HG975381.1] and \"antisense RNA: ncRNA alternatively spliced variants (complete sequnece-GQ495918.1, GQ495919.1, GQ495920.1, GQ495921.1, GQ495922.1, GQ495923.1, GQ495924.1, GQ495925.1, GQ495926.1) were also there in result.', [20, [382, ['13;']]])\n",
      "10 ('Also Known As: MIR4435-2HG; AGD2; \\r\\nMORRBID; LINC00978; MIR4435-1HG; \\r\\nlncRNA-AWPPH', [24, [280, ['LINC00978;']], [281, ['LINC00978;']]])\n",
      "15 ('Also Known As: BLACAT2: LINC00958\\r\\n\\r\\nSome (older) bladder associated transcript 2 variant 1, 2 and 3 lncRNA \"lncRNA\" ncRNA (complete sequence-MF435912.1, MF435913.1 and MF435914.1 respectively) with PQS- 4, 4, 5 respectively, were also there in result.', [33, [279, ['LINC00958\\r']]])\n",
      "17 ('Also Known As: CARLO5; CCAT1; onco-lncRNA-40', [36, [49, ['CCAT1;']], [50, ['CCAT1;']], [51, ['CCAT1;']], [52, ['CCAT1;']], [53, ['CCAT1;']], [54, ['CCAT1;']], [55, ['CCAT1;']], [56, ['CCAT1;']]])\n",
      "------------------------------------------------------\n",
      "Number of duplicates found in sheet data\\lnc2rna_filled_data\\5Gastric.csv: 4\n",
      "------------------------------------------------------\n",
      "\n"
     ]
    }
   ],
   "source": [
    "removeDuplicates(filenames[2])"
   ]
  },
  {
   "cell_type": "code",
   "execution_count": 75,
   "id": "335ac317",
   "metadata": {},
   "outputs": [
    {
     "name": "stdout",
     "output_type": "stream",
     "text": [
      "\n",
      "------------------------------------------------------\n",
      "\"Homo sapiens\n",
      "Some (older) \n",
      "Some (older) \n",
      "Some (older) \n",
      "Some (older) \n",
      "[69, 323, 324, 325, 326]\n",
      "1 ('Also Known As: AGU2; ANCR; DANCR; \\r\\nSNHG13; KIAA0114; lncRNA-ANCR\\r\\n\\r\\nSome (older) transcribed RNA, ANCR, \\r\\nVariant 1, 2 and 3 \"lncRNA\" ncRNA (complete \\r\\nsequence-LC128577.1, LC128578.1 and \\r\\nLC128579.1 respectively) with PQS- 7, 7, 7 \\r\\nrespectively, were also there in result.', [7, [52, ['DANCR;']], [53, ['DANCR;']], [54, ['DANCR;']], [55, ['DANCR;']]])\n",
      "15 ('Also Known As: AGU2; ANCR; DANCR; SNHG13; KIAA0114; lncRNA-ANCR\\r\\n\\r\\nSome (older) transcribed RNA, ANCR, Variant 1, 2 and 3 \"lncRNA\" ncRNA (complete sequence-LC128577.1, LC128578.1 and LC128579.1 respectively) with PQS- 7, 7, 7 respectively, were also there in result.', [55, [7, ['ANCR;', 'ANCR\\r', 'ANCR,']]])\n",
      "17 ('Also Known As: BCMS; DLB1; LEU1; LEU2; XTP6; BCMS1; DLEU2; LINC00021; NCRNA00021\\r\\n\\r\\nSome (not checked for PQS) DLEU1-AS1 \"lncRNA\" ncRNA (NR_125753.1) was also there in result.', [59, [60, ['DLEU2;']]])\n",
      "18 ('Also Known As: ALT1; DLB2; LEU2; RFP2; \\r\\nBCMSUN; RFP2OS; MIR15AHG; TRIM13OS; \\r\\nLINC00022; NCRNA00022\\r\\n\\r\\nDLEU2 is another name for DLEU1 but not the other way around.', [60, [58, ['DLEU1 ']], [59, ['DLEU1 ']]])\n",
      "------------------------------------------------------\n",
      "Number of duplicates found in sheet data\\lnc2rna_filled_data\\6Head and neck.csv: 4\n",
      "------------------------------------------------------\n",
      "\n"
     ]
    }
   ],
   "source": [
    "removeDuplicates(filenames[3])"
   ]
  },
  {
   "cell_type": "code",
   "execution_count": 76,
   "id": "465d91f5",
   "metadata": {},
   "outputs": [
    {
     "name": "stdout",
     "output_type": "stream",
     "text": [
      "\n",
      "------------------------------------------------------\n",
      "CLLU1-AS1 tra\n",
      "Homo sapiens \n",
      "Homo sapiens \n",
      "Homo sapiens \n",
      "Homo sapiens \n",
      "Some (older-n\n",
      "Search result\n",
      "lso Known As:\n",
      "lso Known As:\n",
      "Some (older) \n",
      "Some (older) \n",
      "Some (older) \n",
      "Some (older) \n",
      "Some (older) \n",
      "Some (older) \n",
      "Homo sapiens \n",
      "Homo sapiens \n",
      "Homo sapiens \n",
      "[71, 119, 120, 121, 122, 443, 589, 615, 616, 673, 676, 677, 678, 679, 680, 689, 690, 691]\n",
      "0 ('Also known as: ZXF1; UC001kfo; uc001kfo.1', [0, [607, ['UC001kfo;']], [608, ['UC001kfo;']]])\n",
      "4 ('Also Known As: AGU2; DANCR; SNHG13; KIAA0114; lncRNA-ANCR\\r\\n\\r\\nSome (older) transcribed RNA, ANCR, Variant 1, 2 and 3 \"lncRNA\" ncRNA (complete sequence-LC128577.1, LC128578.1 and LC128579.1 respectively) with PQS- 7, 7, 7 respectively, were also there in result.', [7, [84, ['DANCR;']], [85, ['DANCR;']], [86, ['DANCR;']], [87, ['DANCR;']], [88, ['DANCR;']], [89, ['DANCR;']], [447, ['and ', 'and ']], [448, ['and ', 'and ']], [449, ['and ', 'and ']], [450, ['and ', 'and ']], [451, ['and ', 'and ']], [452, ['and ', 'and ']], [453, ['and ', 'and ']], [454, ['and ', 'and ']], [455, ['and ', 'and ']], [456, ['and ', 'and ']], [457, ['and ', 'and ']], [458, ['and ', 'and ']], [459, ['and ', 'and ']], [460, ['and ', 'and ']], [461, ['and ', 'and ']], [462, ['and ', 'and ']], [463, ['and ', 'and ']], [464, ['and ', 'and ']], [465, ['and ', 'and ']], [466, ['and ', 'and ']], [467, ['and ', 'and ']], [468, ['and ', 'and ']], [469, ['and ', 'and ']]])\n",
      "5 ('Also Known As: ANRIL; p15AS; PCAT12; CDKN2B-AS1; CDKN2BAS; CDKN2B-AS; NCRNA00089\\r\\n\\r\\nSome (older) ANRIL ncRNA for antisense noncoding RNA in the INK4 locus transcript \"antisense RNA\" ncRNA (AB548314.1) with PQS-15 was also there in result.\\r\\n\\r\\nSome (older-not checked for PQS) antisense noncoding RNA in the INK4 locus splice variant (ANRIL) \"antisense RNA\" ncRNA (partial sequence, alternatively spliced-EU741058.1; note=\"similar to GenBank Accession Number BF002632; contains exons 1, 5, 6, 7, and 13; alternatively spliced\") was also there in result.\\r\\n\\r\\nSome (older-not checked for PQS) CDKNBAS \"antisense RNA\" ncRNA [TPA(CDKN2B-AS1 gene): HG975381.1] and \"antisense RNA: ncRNA alternatively spliced variants (complete sequnece-GQ495918.1, GQ495919.1, GQ495920.1, GQ495921.1, GQ495922.1, GQ495923.1, GQ495924.1, GQ495925.1, GQ495926.1) were also there in result.', [63, [447, ['and ', 'and ']], [448, ['and ', 'and ']], [449, ['and ', 'and ']], [450, ['and ', 'and ']], [451, ['and ', 'and ']], [452, ['and ', 'and ']], [453, ['and ', 'and ']], [454, ['and ', 'and ']], [455, ['and ', 'and ']], [456, ['and ', 'and ']], [457, ['and ', 'and ']], [458, ['and ', 'and ']], [459, ['and ', 'and ']], [460, ['and ', 'and ']], [461, ['and ', 'and ']], [462, ['and ', 'and ']], [463, ['and ', 'and ']], [464, ['and ', 'and ']], [465, ['and ', 'and ']], [466, ['and ', 'and ']], [467, ['and ', 'and ']], [468, ['and ', 'and ']], [469, ['and ', 'and ']]])\n",
      "8 ('Also Known As: MIR4435-2HG; AGD2; MORRBID; LINC00978; MIR4435-1HG; lncRNA-AWPPH', [439, [323, ['LINC00978;']], [324, ['LINC00978;']]])\n",
      "11 ('Also Known As: BCYRN1; BC200; BC200a; LINC00004; NCRNA00004', [25, [26, ['BCYRN1;']], [27, ['BCYRN1;']]])\n",
      "12 ('Also Known As: BC200; BC200a; LINC00004; NCRNA00004', [27, [25, ['BC200;']]])\n",
      "17 ('Also Known As: CCAT1, CARLO5; CARLo-5; onco-lncRNA-40\\r\\n\\r\\nSome (older-not checked for PQS) colon cancer associated transcript 1 (CCAT1) RNA \"other\" ncRNA (RNA, complete sequence - HM358356.1) was also there in result.', [32, [46, ['CCAT1,', 'CCAT1)']], [47, ['CCAT1,', 'CCAT1)']], [48, ['CCAT1,', 'CCAT1)']], [49, ['CCAT1,', 'CCAT1)']], [50, ['CCAT1,', 'CCAT1)']], [51, ['CCAT1,', 'CCAT1)']], [52, ['CCAT1,', 'CCAT1)']], [53, ['CCAT1,', 'CCAT1)']], [54, ['CCAT1,', 'CCAT1)']]])\n",
      "------------------------------------------------------\n",
      "Number of duplicates found in sheet data\\lnc2rna_filled_data\\8Liver.csv: 7\n",
      "------------------------------------------------------\n",
      "\n"
     ]
    }
   ],
   "source": [
    "removeDuplicates(filenames[4])"
   ]
  },
  {
   "cell_type": "code",
   "execution_count": 77,
   "id": "996f011e",
   "metadata": {},
   "outputs": [
    {
     "name": "stdout",
     "output_type": "stream",
     "text": [
      "\n",
      "------------------------------------------------------\n",
      "Also known: M\n",
      "Also known: M\n",
      "Some LINC0129\n",
      "Homo sapiens \n",
      "Homo sapiens \n",
      "uncharacteriz\n",
      "Some (older-n\n",
      "Some (older-n\n",
      "Some (older-n\n",
      "lso Known As:\n",
      "lso Known As:\n",
      "lso Known As:\n",
      "lso Known As:\n",
      "Some (older) \n",
      "Some (older) \n",
      "Some (older) \n",
      "Some (older) \n",
      "Some (older) \n",
      "Some (older) \n",
      "[56, 57, 117, 118, 119, 124, 443, 444, 445, 643, 644, 645, 646, 690, 691, 692, 693, 694, 695]\n",
      "12 ('Also Known As: MYMLR; CARLO7; CARLo-7; LINC00990; TCONS_00014535', [47, [442, ['MYMLR;']]])\n",
      "------------------------------------------------------\n",
      "Number of duplicates found in sheet data\\lnc2rna_filled_data\\7Lung.csv: 1\n",
      "------------------------------------------------------\n",
      "\n"
     ]
    }
   ],
   "source": [
    "removeDuplicates(filenames[5])"
   ]
  },
  {
   "cell_type": "code",
   "execution_count": 78,
   "id": "b8e871f7",
   "metadata": {},
   "outputs": [
    {
     "name": "stdout",
     "output_type": "stream",
     "text": [
      "\n",
      "------------------------------------------------------\n",
      "Homo sapiens \n",
      "Some (older-n\n",
      "Some (older-n\n",
      "Homo sapiens \n",
      "[43, 149, 150, 276]\n",
      "------------------------------------------------------\n",
      "Number of duplicates found in sheet data\\lnc2rna_filled_data\\2Ovarian.csv: 0\n",
      "------------------------------------------------------\n",
      "\n"
     ]
    }
   ],
   "source": [
    "removeDuplicates(filenames[6])"
   ]
  },
  {
   "cell_type": "code",
   "execution_count": 79,
   "id": "772219c1",
   "metadata": {},
   "outputs": [
    {
     "name": "stdout",
     "output_type": "stream",
     "text": [
      "\n",
      "------------------------------------------------------\n",
      "DIO3-OS; DIO3\n",
      "-\n",
      "Homo sapiens \n",
      "Homo sapiens \n",
      "-\n",
      "-\n",
      "IGF1R-AS\n",
      "-\n",
      "-\n",
      "-\n",
      "-\n",
      "-\n",
      "-\n",
      "-\n",
      "-\n",
      "-\n",
      "-\n",
      "-\n",
      "-\n",
      "-\n",
      "-\n",
      "-\n",
      "-\n",
      "Homo sapiens \n",
      "[28, 32, 33, 34, 36, 51, 75, 76, 91, 92, 96, 98, 99, 104, 105, 106, 108, 109, 110, 117, 120, 147, 172, 190]\n"
     ]
    },
    {
     "ename": "error",
     "evalue": "missing ), unterminated subpattern at position 2",
     "output_type": "error",
     "traceback": [
      "\u001b[1;31m---------------------------------------------------------------------------\u001b[0m",
      "\u001b[1;31merror\u001b[0m                                     Traceback (most recent call last)",
      "\u001b[1;32m~\\AppData\\Local\\Temp/ipykernel_4352/4177122486.py\u001b[0m in \u001b[0;36m<module>\u001b[1;34m\u001b[0m\n\u001b[1;32m----> 1\u001b[1;33m \u001b[0mremoveDuplicates\u001b[0m\u001b[1;33m(\u001b[0m\u001b[0mfilenames\u001b[0m\u001b[1;33m[\u001b[0m\u001b[1;36m7\u001b[0m\u001b[1;33m]\u001b[0m\u001b[1;33m)\u001b[0m\u001b[1;33m\u001b[0m\u001b[1;33m\u001b[0m\u001b[0m\n\u001b[0m",
      "\u001b[1;32m~\\AppData\\Local\\Temp/ipykernel_4352/2440729780.py\u001b[0m in \u001b[0;36mremoveDuplicates\u001b[1;34m(SHEET_PATH)\u001b[0m\n\u001b[0;32m     51\u001b[0m                 \u001b[1;32mif\u001b[0m \u001b[0mname\u001b[0m\u001b[1;33m[\u001b[0m\u001b[1;33m-\u001b[0m\u001b[1;36m1\u001b[0m\u001b[1;33m]\u001b[0m\u001b[1;33m==\u001b[0m\u001b[1;34m'_'\u001b[0m\u001b[1;33m:\u001b[0m\u001b[1;33m\u001b[0m\u001b[1;33m\u001b[0m\u001b[0m\n\u001b[0;32m     52\u001b[0m                     \u001b[0mname\u001b[0m \u001b[1;33m=\u001b[0m \u001b[0mname\u001b[0m\u001b[1;33m[\u001b[0m\u001b[1;33m:\u001b[0m\u001b[1;33m-\u001b[0m\u001b[1;36m1\u001b[0m\u001b[1;33m]\u001b[0m\u001b[1;33m\u001b[0m\u001b[1;33m\u001b[0m\u001b[0m\n\u001b[1;32m---> 53\u001b[1;33m                 \u001b[0mfound\u001b[0m \u001b[1;33m=\u001b[0m \u001b[0mre\u001b[0m\u001b[1;33m.\u001b[0m\u001b[0mfindall\u001b[0m\u001b[1;33m(\u001b[0m\u001b[1;34m\"\\\\b\"\u001b[0m\u001b[1;33m+\u001b[0m\u001b[0mname\u001b[0m\u001b[1;33m+\u001b[0m\u001b[1;34m\"\\\\W\"\u001b[0m\u001b[1;33m,\u001b[0m \u001b[0mrem\u001b[0m\u001b[1;33m)\u001b[0m\u001b[1;33m\u001b[0m\u001b[1;33m\u001b[0m\u001b[0m\n\u001b[0m\u001b[0;32m     54\u001b[0m                 \u001b[1;32mif\u001b[0m \u001b[0mlen\u001b[0m\u001b[1;33m(\u001b[0m\u001b[0mfound\u001b[0m\u001b[1;33m)\u001b[0m \u001b[1;33m>\u001b[0m \u001b[1;36m0\u001b[0m \u001b[1;32mand\u001b[0m \u001b[0mrem\u001b[0m\u001b[1;33m!=\u001b[0m\u001b[0mrow\u001b[0m\u001b[1;33m[\u001b[0m\u001b[1;34m'Remarks'\u001b[0m\u001b[1;33m]\u001b[0m\u001b[1;33m:\u001b[0m\u001b[1;33m\u001b[0m\u001b[1;33m\u001b[0m\u001b[0m\n\u001b[0;32m     55\u001b[0m                     \u001b[0mmp\u001b[0m\u001b[1;33m[\u001b[0m\u001b[0mrem\u001b[0m\u001b[1;33m]\u001b[0m\u001b[1;33m.\u001b[0m\u001b[0mappend\u001b[0m\u001b[1;33m(\u001b[0m\u001b[1;33m[\u001b[0m\u001b[0mi\u001b[0m\u001b[1;33m,\u001b[0m \u001b[0mfound\u001b[0m\u001b[1;33m]\u001b[0m\u001b[1;33m)\u001b[0m\u001b[1;33m\u001b[0m\u001b[1;33m\u001b[0m\u001b[0m\n",
      "\u001b[1;32mD:\\python\\lib\\re.py\u001b[0m in \u001b[0;36mfindall\u001b[1;34m(pattern, string, flags)\u001b[0m\n\u001b[0;32m    239\u001b[0m \u001b[1;33m\u001b[0m\u001b[0m\n\u001b[0;32m    240\u001b[0m     Empty matches are included in the result.\"\"\"\n\u001b[1;32m--> 241\u001b[1;33m     \u001b[1;32mreturn\u001b[0m \u001b[0m_compile\u001b[0m\u001b[1;33m(\u001b[0m\u001b[0mpattern\u001b[0m\u001b[1;33m,\u001b[0m \u001b[0mflags\u001b[0m\u001b[1;33m)\u001b[0m\u001b[1;33m.\u001b[0m\u001b[0mfindall\u001b[0m\u001b[1;33m(\u001b[0m\u001b[0mstring\u001b[0m\u001b[1;33m)\u001b[0m\u001b[1;33m\u001b[0m\u001b[1;33m\u001b[0m\u001b[0m\n\u001b[0m\u001b[0;32m    242\u001b[0m \u001b[1;33m\u001b[0m\u001b[0m\n\u001b[0;32m    243\u001b[0m \u001b[1;32mdef\u001b[0m \u001b[0mfinditer\u001b[0m\u001b[1;33m(\u001b[0m\u001b[0mpattern\u001b[0m\u001b[1;33m,\u001b[0m \u001b[0mstring\u001b[0m\u001b[1;33m,\u001b[0m \u001b[0mflags\u001b[0m\u001b[1;33m=\u001b[0m\u001b[1;36m0\u001b[0m\u001b[1;33m)\u001b[0m\u001b[1;33m:\u001b[0m\u001b[1;33m\u001b[0m\u001b[1;33m\u001b[0m\u001b[0m\n",
      "\u001b[1;32mD:\\python\\lib\\re.py\u001b[0m in \u001b[0;36m_compile\u001b[1;34m(pattern, flags)\u001b[0m\n\u001b[0;32m    302\u001b[0m     \u001b[1;32mif\u001b[0m \u001b[1;32mnot\u001b[0m \u001b[0msre_compile\u001b[0m\u001b[1;33m.\u001b[0m\u001b[0misstring\u001b[0m\u001b[1;33m(\u001b[0m\u001b[0mpattern\u001b[0m\u001b[1;33m)\u001b[0m\u001b[1;33m:\u001b[0m\u001b[1;33m\u001b[0m\u001b[1;33m\u001b[0m\u001b[0m\n\u001b[0;32m    303\u001b[0m         \u001b[1;32mraise\u001b[0m \u001b[0mTypeError\u001b[0m\u001b[1;33m(\u001b[0m\u001b[1;34m\"first argument must be string or compiled pattern\"\u001b[0m\u001b[1;33m)\u001b[0m\u001b[1;33m\u001b[0m\u001b[1;33m\u001b[0m\u001b[0m\n\u001b[1;32m--> 304\u001b[1;33m     \u001b[0mp\u001b[0m \u001b[1;33m=\u001b[0m \u001b[0msre_compile\u001b[0m\u001b[1;33m.\u001b[0m\u001b[0mcompile\u001b[0m\u001b[1;33m(\u001b[0m\u001b[0mpattern\u001b[0m\u001b[1;33m,\u001b[0m \u001b[0mflags\u001b[0m\u001b[1;33m)\u001b[0m\u001b[1;33m\u001b[0m\u001b[1;33m\u001b[0m\u001b[0m\n\u001b[0m\u001b[0;32m    305\u001b[0m     \u001b[1;32mif\u001b[0m \u001b[1;32mnot\u001b[0m \u001b[1;33m(\u001b[0m\u001b[0mflags\u001b[0m \u001b[1;33m&\u001b[0m \u001b[0mDEBUG\u001b[0m\u001b[1;33m)\u001b[0m\u001b[1;33m:\u001b[0m\u001b[1;33m\u001b[0m\u001b[1;33m\u001b[0m\u001b[0m\n\u001b[0;32m    306\u001b[0m         \u001b[1;32mif\u001b[0m \u001b[0mlen\u001b[0m\u001b[1;33m(\u001b[0m\u001b[0m_cache\u001b[0m\u001b[1;33m)\u001b[0m \u001b[1;33m>=\u001b[0m \u001b[0m_MAXCACHE\u001b[0m\u001b[1;33m:\u001b[0m\u001b[1;33m\u001b[0m\u001b[1;33m\u001b[0m\u001b[0m\n",
      "\u001b[1;32mD:\\python\\lib\\sre_compile.py\u001b[0m in \u001b[0;36mcompile\u001b[1;34m(p, flags)\u001b[0m\n\u001b[0;32m    762\u001b[0m     \u001b[1;32mif\u001b[0m \u001b[0misstring\u001b[0m\u001b[1;33m(\u001b[0m\u001b[0mp\u001b[0m\u001b[1;33m)\u001b[0m\u001b[1;33m:\u001b[0m\u001b[1;33m\u001b[0m\u001b[1;33m\u001b[0m\u001b[0m\n\u001b[0;32m    763\u001b[0m         \u001b[0mpattern\u001b[0m \u001b[1;33m=\u001b[0m \u001b[0mp\u001b[0m\u001b[1;33m\u001b[0m\u001b[1;33m\u001b[0m\u001b[0m\n\u001b[1;32m--> 764\u001b[1;33m         \u001b[0mp\u001b[0m \u001b[1;33m=\u001b[0m \u001b[0msre_parse\u001b[0m\u001b[1;33m.\u001b[0m\u001b[0mparse\u001b[0m\u001b[1;33m(\u001b[0m\u001b[0mp\u001b[0m\u001b[1;33m,\u001b[0m \u001b[0mflags\u001b[0m\u001b[1;33m)\u001b[0m\u001b[1;33m\u001b[0m\u001b[1;33m\u001b[0m\u001b[0m\n\u001b[0m\u001b[0;32m    765\u001b[0m     \u001b[1;32melse\u001b[0m\u001b[1;33m:\u001b[0m\u001b[1;33m\u001b[0m\u001b[1;33m\u001b[0m\u001b[0m\n\u001b[0;32m    766\u001b[0m         \u001b[0mpattern\u001b[0m \u001b[1;33m=\u001b[0m \u001b[1;32mNone\u001b[0m\u001b[1;33m\u001b[0m\u001b[1;33m\u001b[0m\u001b[0m\n",
      "\u001b[1;32mD:\\python\\lib\\sre_parse.py\u001b[0m in \u001b[0;36mparse\u001b[1;34m(str, flags, state)\u001b[0m\n\u001b[0;32m    946\u001b[0m \u001b[1;33m\u001b[0m\u001b[0m\n\u001b[0;32m    947\u001b[0m     \u001b[1;32mtry\u001b[0m\u001b[1;33m:\u001b[0m\u001b[1;33m\u001b[0m\u001b[1;33m\u001b[0m\u001b[0m\n\u001b[1;32m--> 948\u001b[1;33m         \u001b[0mp\u001b[0m \u001b[1;33m=\u001b[0m \u001b[0m_parse_sub\u001b[0m\u001b[1;33m(\u001b[0m\u001b[0msource\u001b[0m\u001b[1;33m,\u001b[0m \u001b[0mstate\u001b[0m\u001b[1;33m,\u001b[0m \u001b[0mflags\u001b[0m \u001b[1;33m&\u001b[0m \u001b[0mSRE_FLAG_VERBOSE\u001b[0m\u001b[1;33m,\u001b[0m \u001b[1;36m0\u001b[0m\u001b[1;33m)\u001b[0m\u001b[1;33m\u001b[0m\u001b[1;33m\u001b[0m\u001b[0m\n\u001b[0m\u001b[0;32m    949\u001b[0m     \u001b[1;32mexcept\u001b[0m \u001b[0mVerbose\u001b[0m\u001b[1;33m:\u001b[0m\u001b[1;33m\u001b[0m\u001b[1;33m\u001b[0m\u001b[0m\n\u001b[0;32m    950\u001b[0m         \u001b[1;31m# the VERBOSE flag was switched on inside the pattern.  to be\u001b[0m\u001b[1;33m\u001b[0m\u001b[1;33m\u001b[0m\u001b[0m\n",
      "\u001b[1;32mD:\\python\\lib\\sre_parse.py\u001b[0m in \u001b[0;36m_parse_sub\u001b[1;34m(source, state, verbose, nested)\u001b[0m\n\u001b[0;32m    441\u001b[0m     \u001b[0mstart\u001b[0m \u001b[1;33m=\u001b[0m \u001b[0msource\u001b[0m\u001b[1;33m.\u001b[0m\u001b[0mtell\u001b[0m\u001b[1;33m(\u001b[0m\u001b[1;33m)\u001b[0m\u001b[1;33m\u001b[0m\u001b[1;33m\u001b[0m\u001b[0m\n\u001b[0;32m    442\u001b[0m     \u001b[1;32mwhile\u001b[0m \u001b[1;32mTrue\u001b[0m\u001b[1;33m:\u001b[0m\u001b[1;33m\u001b[0m\u001b[1;33m\u001b[0m\u001b[0m\n\u001b[1;32m--> 443\u001b[1;33m         itemsappend(_parse(source, state, verbose, nested + 1,\n\u001b[0m\u001b[0;32m    444\u001b[0m                            not nested and not items))\n\u001b[0;32m    445\u001b[0m         \u001b[1;32mif\u001b[0m \u001b[1;32mnot\u001b[0m \u001b[0msourcematch\u001b[0m\u001b[1;33m(\u001b[0m\u001b[1;34m\"|\"\u001b[0m\u001b[1;33m)\u001b[0m\u001b[1;33m:\u001b[0m\u001b[1;33m\u001b[0m\u001b[1;33m\u001b[0m\u001b[0m\n",
      "\u001b[1;32mD:\\python\\lib\\sre_parse.py\u001b[0m in \u001b[0;36m_parse\u001b[1;34m(source, state, verbose, nested, first)\u001b[0m\n\u001b[0;32m    834\u001b[0m             \u001b[0mp\u001b[0m \u001b[1;33m=\u001b[0m \u001b[0m_parse_sub\u001b[0m\u001b[1;33m(\u001b[0m\u001b[0msource\u001b[0m\u001b[1;33m,\u001b[0m \u001b[0mstate\u001b[0m\u001b[1;33m,\u001b[0m \u001b[0msub_verbose\u001b[0m\u001b[1;33m,\u001b[0m \u001b[0mnested\u001b[0m \u001b[1;33m+\u001b[0m \u001b[1;36m1\u001b[0m\u001b[1;33m)\u001b[0m\u001b[1;33m\u001b[0m\u001b[1;33m\u001b[0m\u001b[0m\n\u001b[0;32m    835\u001b[0m             \u001b[1;32mif\u001b[0m \u001b[1;32mnot\u001b[0m \u001b[0msource\u001b[0m\u001b[1;33m.\u001b[0m\u001b[0mmatch\u001b[0m\u001b[1;33m(\u001b[0m\u001b[1;34m\")\"\u001b[0m\u001b[1;33m)\u001b[0m\u001b[1;33m:\u001b[0m\u001b[1;33m\u001b[0m\u001b[1;33m\u001b[0m\u001b[0m\n\u001b[1;32m--> 836\u001b[1;33m                 raise source.error(\"missing ), unterminated subpattern\",\n\u001b[0m\u001b[0;32m    837\u001b[0m                                    source.tell() - start)\n\u001b[0;32m    838\u001b[0m             \u001b[1;32mif\u001b[0m \u001b[0mgroup\u001b[0m \u001b[1;32mis\u001b[0m \u001b[1;32mnot\u001b[0m \u001b[1;32mNone\u001b[0m\u001b[1;33m:\u001b[0m\u001b[1;33m\u001b[0m\u001b[1;33m\u001b[0m\u001b[0m\n",
      "\u001b[1;31merror\u001b[0m: missing ), unterminated subpattern at position 2"
     ]
    }
   ],
   "source": [
    "removeDuplicates(filenames[7])"
   ]
  },
  {
   "cell_type": "code",
   "execution_count": 80,
   "id": "4390a17e",
   "metadata": {},
   "outputs": [
    {
     "name": "stdout",
     "output_type": "stream",
     "text": [
      "\n",
      "------------------------------------------------------\n",
      "Homo sapiens \n",
      "[31]\n",
      "16 ('Also Known As: FALEC; FAL1; ncRNA-a1; LINC00568', [26, [27, ['FALEC;']]])\n",
      "17 ('Also Known As: FAL1, ncRNA-a1; LINC00568', [27, [26, ['FAL1,']]])\n",
      "------------------------------------------------------\n",
      "Number of duplicates found in sheet data\\lnc2rna_filled_data\\9Prostate.csv: 2\n",
      "------------------------------------------------------\n",
      "\n"
     ]
    }
   ],
   "source": [
    "removeDuplicates(filenames[8])"
   ]
  },
  {
   "cell_type": "code",
   "execution_count": null,
   "id": "be301d2a",
   "metadata": {},
   "outputs": [],
   "source": []
  }
 ],
 "metadata": {
  "interpreter": {
   "hash": "79d89f5018a25ee4903297670e08d262d75f7807c927736ae3bf5b92210728b3"
  },
  "kernelspec": {
   "display_name": "Python 3.9.7 64-bit ('venv': venv)",
   "language": "python",
   "name": "python3"
  },
  "language_info": {
   "codemirror_mode": {
    "name": "ipython",
    "version": 3
   },
   "file_extension": ".py",
   "mimetype": "text/x-python",
   "name": "python",
   "nbconvert_exporter": "python",
   "pygments_lexer": "ipython3",
   "version": "3.9.7"
  }
 },
 "nbformat": 4,
 "nbformat_minor": 5
}
